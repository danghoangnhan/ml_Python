{
 "cells": [
  {
   "cell_type": "code",
   "execution_count": 7,
   "metadata": {},
   "outputs": [],
   "source": [
    "import tensorflow as tf\n",
    "import sys\n",
    "sys.path.append('../')\n",
    "from model.CNN.VGGNet import VGG_19"
   ]
  },
  {
   "cell_type": "code",
   "execution_count": 8,
   "metadata": {},
   "outputs": [
    {
     "data": {
      "text/plain": [
       "[PhysicalDevice(name='/physical_device:GPU:0', device_type='GPU')]"
      ]
     },
     "execution_count": 8,
     "metadata": {},
     "output_type": "execute_result"
    }
   ],
   "source": [
    "tf.config.experimental.list_physical_devices('GPU')"
   ]
  },
  {
   "cell_type": "code",
   "execution_count": 9,
   "metadata": {},
   "outputs": [],
   "source": [
    "# Load and preprocess the CIFAR-10 dataset\n",
    "(x_train, y_train), (x_test, y_test) = tf.keras.datasets.cifar10.load_data()\n",
    "x_train = x_train.astype('float32') / 255.0\n",
    "x_test = x_test.astype('float32') / 255.0\n",
    "y_train = tf.keras.utils.to_categorical(y_train, num_classes=10)\n",
    "y_test = tf.keras.utils.to_categorical(y_test, num_classes=10)"
   ]
  },
  {
   "cell_type": "code",
   "execution_count": 10,
   "metadata": {},
   "outputs": [
    {
     "data": {
      "text/plain": [
       "(50000, 32, 32, 3)"
      ]
     },
     "execution_count": 10,
     "metadata": {},
     "output_type": "execute_result"
    }
   ],
   "source": [
    "x_train.shape"
   ]
  },
  {
   "cell_type": "code",
   "execution_count": 11,
   "metadata": {},
   "outputs": [
    {
     "data": {
      "text/plain": [
       "array([[0., 0., 0., ..., 0., 0., 0.],\n",
       "       [0., 0., 0., ..., 0., 1., 0.],\n",
       "       [0., 0., 0., ..., 0., 1., 0.],\n",
       "       ...,\n",
       "       [0., 0., 0., ..., 0., 0., 0.],\n",
       "       [0., 1., 0., ..., 0., 0., 0.],\n",
       "       [0., 0., 0., ..., 1., 0., 0.]], dtype=float32)"
      ]
     },
     "execution_count": 11,
     "metadata": {},
     "output_type": "execute_result"
    }
   ],
   "source": [
    "y_test"
   ]
  },
  {
   "cell_type": "code",
   "execution_count": 12,
   "metadata": {},
   "outputs": [
    {
     "name": "stdout",
     "output_type": "stream",
     "text": [
      "Epoch 1/100\n",
      "196/196 [==============================] - 8s 38ms/step - loss: 2.3026 - accuracy: 0.0982 - val_loss: 2.3025 - val_accuracy: 0.1000\n",
      "Epoch 2/100\n",
      "196/196 [==============================] - 7s 36ms/step - loss: 2.3026 - accuracy: 0.1062 - val_loss: 2.3025 - val_accuracy: 0.1000\n",
      "Epoch 3/100\n",
      "196/196 [==============================] - 7s 36ms/step - loss: 2.3025 - accuracy: 0.1032 - val_loss: 2.3025 - val_accuracy: 0.1000\n",
      "Epoch 4/100\n",
      "196/196 [==============================] - 7s 36ms/step - loss: 2.3025 - accuracy: 0.1012 - val_loss: 2.3025 - val_accuracy: 0.1003\n",
      "Epoch 5/100\n",
      "196/196 [==============================] - 7s 36ms/step - loss: 2.3025 - accuracy: 0.1047 - val_loss: 2.3025 - val_accuracy: 0.1093\n",
      "Epoch 6/100\n",
      "196/196 [==============================] - 7s 36ms/step - loss: 2.3025 - accuracy: 0.1023 - val_loss: 2.3025 - val_accuracy: 0.1000\n",
      "Epoch 7/100\n",
      "196/196 [==============================] - 7s 36ms/step - loss: 2.3025 - accuracy: 0.1087 - val_loss: 2.3024 - val_accuracy: 0.1000\n",
      "Epoch 8/100\n",
      "196/196 [==============================] - 7s 36ms/step - loss: 2.3025 - accuracy: 0.1084 - val_loss: 2.3024 - val_accuracy: 0.1197\n",
      "Epoch 9/100\n",
      "196/196 [==============================] - 7s 36ms/step - loss: 2.3024 - accuracy: 0.1011 - val_loss: 2.3024 - val_accuracy: 0.1354\n",
      "Epoch 10/100\n",
      "196/196 [==============================] - 7s 36ms/step - loss: 2.3024 - accuracy: 0.1185 - val_loss: 2.3024 - val_accuracy: 0.1000\n",
      "Epoch 11/100\n",
      "196/196 [==============================] - 7s 36ms/step - loss: 2.3024 - accuracy: 0.1179 - val_loss: 2.3023 - val_accuracy: 0.1020\n",
      "Epoch 12/100\n",
      "196/196 [==============================] - 7s 36ms/step - loss: 2.3023 - accuracy: 0.1096 - val_loss: 2.3023 - val_accuracy: 0.1083\n",
      "Epoch 13/100\n",
      "196/196 [==============================] - 7s 36ms/step - loss: 2.3023 - accuracy: 0.1227 - val_loss: 2.3022 - val_accuracy: 0.1514\n",
      "Epoch 14/100\n",
      "196/196 [==============================] - 7s 36ms/step - loss: 2.3022 - accuracy: 0.1274 - val_loss: 2.3021 - val_accuracy: 0.1268\n",
      "Epoch 15/100\n",
      "196/196 [==============================] - 7s 36ms/step - loss: 2.3021 - accuracy: 0.1277 - val_loss: 2.3021 - val_accuracy: 0.1752\n",
      "Epoch 16/100\n",
      "196/196 [==============================] - 7s 36ms/step - loss: 2.3021 - accuracy: 0.1271 - val_loss: 2.3020 - val_accuracy: 0.1819\n",
      "Epoch 17/100\n",
      "196/196 [==============================] - 7s 36ms/step - loss: 2.3020 - accuracy: 0.1336 - val_loss: 2.3019 - val_accuracy: 0.1809\n",
      "Epoch 18/100\n",
      "196/196 [==============================] - 7s 36ms/step - loss: 2.3018 - accuracy: 0.1576 - val_loss: 2.3017 - val_accuracy: 0.1758\n",
      "Epoch 19/100\n",
      "196/196 [==============================] - 7s 36ms/step - loss: 2.3016 - accuracy: 0.1645 - val_loss: 2.3015 - val_accuracy: 0.1835\n",
      "Epoch 20/100\n",
      "196/196 [==============================] - 7s 36ms/step - loss: 2.3014 - accuracy: 0.1599 - val_loss: 2.3012 - val_accuracy: 0.1755\n",
      "Epoch 21/100\n",
      "135/196 [===================>..........] - ETA: 2s - loss: 2.3011 - accuracy: 0.1507"
     ]
    }
   ],
   "source": [
    "\n",
    "# Training\n",
    "epochs = 100\n",
    "batch_size = 256\n",
    "# Compile the model with a specific learning rate\n",
    "learning_rate = 0.001  # Set your desired learning rate here\n",
    "optimizer = tf.keras.optimizers.SGD(learning_rate=learning_rate, momentum=0.9)  # You can add momentum if desired\n",
    "\n",
    "num_classes = 10\n",
    "vgg19_model = VGG_19(width=32,height=32,depth=3,classes=num_classes)\n",
    "\n",
    "# Compile the model\n",
    "vgg19_model.compile(optimizer=optimizer, loss='sparse_categorical_crossentropy', metrics=['accuracy'])\n",
    "\n",
    "\n",
    "\n",
    "history = vgg19_model.fit(x_train, y_train, batch_size=batch_size, epochs=epochs, validation_data=(x_test, y_test))\n",
    "\n",
    "# Evaluation\n",
    "test_loss, test_accuracy = vgg19_model.evaluate(x_test, y_test, batch_size=batch_size)\n",
    "print(f\"Test Loss: {test_loss:.4f}, Test Accuracy: {test_accuracy:.4f}\")"
   ]
  }
 ],
 "metadata": {
  "kernelspec": {
   "display_name": "tensorflow",
   "language": "python",
   "name": "python3"
  },
  "language_info": {
   "codemirror_mode": {
    "name": "ipython",
    "version": 3
   },
   "file_extension": ".py",
   "mimetype": "text/x-python",
   "name": "python",
   "nbconvert_exporter": "python",
   "pygments_lexer": "ipython3",
   "version": "3.8.17"
  },
  "orig_nbformat": 4
 },
 "nbformat": 4,
 "nbformat_minor": 2
}
